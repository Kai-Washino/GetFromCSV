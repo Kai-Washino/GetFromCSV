{
 "cells": [
  {
   "cell_type": "code",
   "execution_count": 81,
   "metadata": {},
   "outputs": [
    {
     "name": "stdout",
     "output_type": "stream",
     "text": [
      "['18', '7', '17']\n"
     ]
    }
   ],
   "source": [
    "import os\n",
    "import pandas as pd\n",
    "csv_file=os.listdir('C:/Users/S2/Documents/チェック/ペリー/date_test')\n",
    "df = pd.read_csv(csv_file[0])\n",
    "score = []\n",
    "for i in range(len(csv_file)):\n",
    "    df = pd.read_csv(csv_file[i])\n",
    "    a = len(df.index)\n",
    "    score.append(df.iloc[a-1,0])\n",
    "print(score)"
   ]
  }
 ],
 "metadata": {
  "kernelspec": {
   "display_name": "Python 3",
   "language": "python",
   "name": "python3"
  },
  "language_info": {
   "codemirror_mode": {
    "name": "ipython",
    "version": 3
   },
   "file_extension": ".py",
   "mimetype": "text/x-python",
   "name": "python",
   "nbconvert_exporter": "python",
   "pygments_lexer": "ipython3",
   "version": "3.7.6"
  }
 },
 "nbformat": 4,
 "nbformat_minor": 4
}
